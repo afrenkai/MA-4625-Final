{
  "nbformat": 4,
  "nbformat_minor": 0,
  "metadata": {
    "colab": {
      "provenance": [],
      "authorship_tag": "ABX9TyPJX48agrBpA004jh4+cG5V"
    },
    "kernelspec": {
      "name": "python3",
      "display_name": "Python 3"
    },
    "language_info": {
      "name": "python"
    }
  },
  "cells": [
    {
      "cell_type": "code",
      "source": [
        "from sklearn.preprocessing import StandardScaler\n",
        "import numpy as np\n",
        "import pandas as pd\n",
        "import networkx as nx\n",
        "import matplotlib.pyplot as plt\n",
        "from tqdm import tqdm\n",
        "from scipy.stats import ks_2samp"
      ],
      "metadata": {
        "id": "cIJo0-X6JSp8"
      },
      "execution_count": 1,
      "outputs": []
    },
    {
      "cell_type": "code",
      "execution_count": 2,
      "metadata": {
        "id": "0rapR0Cy3epq"
      },
      "outputs": [],
      "source": [
        "def get_data(split: str):\n",
        "    df = pd.read_csv(f'diamonds_{split}.csv')\n",
        "    df = df.rename(columns = {'Unnamed: 0': 'Index'})\n",
        "    # print(df.dtypes)\n",
        "    x = df.drop(['Index', 'price'], axis = 1) # index col not needed\n",
        "    # print(x.describe())\n",
        "    y = df['price']\n",
        "    # print(y.describe())\n",
        "    # x_arr = x.to_numpy()\n",
        "    # y_arr = y.to_numpy()\n",
        "    # # print(x_arr[1])\n",
        "    # print(y_arr[0])\n",
        "    return x, y"
      ]
    },
    {
      "cell_type": "code",
      "source": [
        "def ohe(df, col: str):\n",
        "  visited = []\n",
        "  for val in df[col]:\n",
        "    if val not in visited:\n",
        "      visited.append(val)\n",
        "  for val in visited:\n",
        "    if f'{val}_{col}' not in df.columns:\n",
        "      df[f'{val}_{col}'] = df[col].apply(lambda x: 1 if x == val else 0)\n",
        "\n",
        "  df = df.drop(col, axis = 1)\n",
        "  return df"
      ],
      "metadata": {
        "id": "fIErRR0KLg2i"
      },
      "execution_count": 10,
      "outputs": []
    },
    {
      "cell_type": "code",
      "source": [
        "def feature_engineering(split):\n",
        "  x_train, y_train = get_data('train')\n",
        "  x_train = ohe(x_train, 'color')\n",
        "  x_train = ohe(x_train, 'cut')\n",
        "  x_train = ohe(x_train, 'clarity')\n",
        "\n",
        "  if split != \"train\":\n",
        "    ks= {}\n",
        "\n",
        "    x_split, y_split = get_data(split)\n",
        "    x_split = ohe(x_split, 'color')\n",
        "    x_split = ohe(x_split, 'cut')\n",
        "    x_split = ohe(x_split, 'clarity')\n",
        "    train = pd.concat([x_train, y_train], axis = 1)\n",
        "    val = pd.concat([x_split, y_split], axis = 1)\n",
        "    for col in train.columns:\n",
        "      stat, p = ks_2samp(train[col], val[col])\n",
        "      ks[col] = f'statistic: {stat}', f'p-value: {p}'\n",
        "  else:\n",
        "    x_split, y_split = x_train, y_train\n",
        "\n",
        "  for k, v in ks.items():\n",
        "    _, p = v\n",
        "    p = float(p.split(': ')[1])\n",
        "    if p < 0.05:\n",
        "      print('different distributions')\n",
        "      raise Exception\n",
        "\n",
        "  print('p looks good')\n",
        "  scaler = StandardScaler()\n",
        "  scaler.fit(y_train.to_numpy().reshape(-1, 1))\n",
        "  y_split = scaler.transform(y_split.to_numpy().reshape(-1, 1))\n",
        "  n_feats = x_split.shape[1]\n",
        "  # print(n_feats)\n",
        "  x_split = x_split.to_numpy()\n",
        "  return x_split, y_split, n_feats, ks\n",
        "\n",
        "# change param to use train as a basis for fit\n"
      ],
      "metadata": {
        "id": "mA-fBzvbZwIJ"
      },
      "execution_count": 3,
      "outputs": []
    },
    {
      "cell_type": "code",
      "source": [
        "feature_engineering('val')"
      ],
      "metadata": {
        "colab": {
          "base_uri": "https://localhost:8080/"
        },
        "id": "Jl_F0UsyZuXX",
        "outputId": "a19beb27-c726-49eb-e0f9-549e92e65294"
      },
      "execution_count": null,
      "outputs": [
        {
          "output_type": "stream",
          "name": "stdout",
          "text": [
            "p looks good\n"
          ]
        },
        {
          "output_type": "execute_result",
          "data": {
            "text/plain": [
              "(array([[ 0.29, 62.8 , 44.  , ...,  0.  ,  0.  ,  0.  ],\n",
              "        [ 0.3 , 63.5 , 55.  , ...,  0.  ,  0.  ,  0.  ],\n",
              "        [ 1.01, 62.  , 57.  , ...,  0.  ,  0.  ,  0.  ],\n",
              "        ...,\n",
              "        [ 0.3 , 61.8 , 55.  , ...,  0.  ,  0.  ,  0.  ],\n",
              "        [ 1.16, 61.2 , 58.  , ...,  0.  ,  0.  ,  0.  ],\n",
              "        [ 0.34, 62.9 , 55.  , ...,  0.  ,  0.  ,  0.  ]]),\n",
              " array([[-0.86791129],\n",
              "        [-0.76189848],\n",
              "        [ 0.33096516],\n",
              "        ...,\n",
              "        [-0.81780072],\n",
              "        [ 1.59153552],\n",
              "        [-0.81452717]]),\n",
              " 26,\n",
              " {'carat': ('statistic: 0.010729514275120478', 'p-value: 0.6349713469900817'),\n",
              "  'depth': ('statistic: 0.013116425658138642', 'p-value: 0.3781841010821523'),\n",
              "  'table': ('statistic: 0.00426399703374114', 'p-value: 0.9999924703974541'),\n",
              "  'x': ('statistic: 0.01068316648127543', 'p-value: 0.6403816964081891'),\n",
              "  'y': ('statistic: 0.009709862810530212', 'p-value: 0.7527413041865041'),\n",
              "  'z': ('statistic: 0.011123470522803103', 'p-value: 0.5892139525783757'),\n",
              "  'F_color': ('statistic: 0.0022942157953281805', 'p-value: 1.0'),\n",
              "  'H_color': ('statistic: 0.0015989988876529138', 'p-value: 1.0'),\n",
              "  'G_color': ('statistic: 0.005561735261401468', 'p-value: 0.998251862117686'),\n",
              "  'D_color': ('statistic: 0.0018539117538005634', 'p-value: 1.0'),\n",
              "  'E_color': ('statistic: 0.0032675194660733986',\n",
              "   'p-value: 0.9999999993863832'),\n",
              "  'I_color': ('statistic: 0.0013672599184278988', 'p-value: 1.0'),\n",
              "  'J_color': ('statistic: 0.0020856507230255783', 'p-value: 1.0'),\n",
              "  'Ideal_cut': ('statistic: 0.0012513904338153914', 'p-value: 1.0'),\n",
              "  'Very Good_cut': ('statistic: 0.012328513162773502',\n",
              "   'p-value: 0.4561059112014956'),\n",
              "  'Premium_cut': ('statistic: 0.0041017797552836965',\n",
              "   'p-value: 0.9999974319118733'),\n",
              "  'Good_cut': ('statistic: 0.0005329996292176009', 'p-value: 1.0'),\n",
              "  'Fair_cut': ('statistic: 0.006442343344456702',\n",
              "   'p-value: 0.9878792460710941'),\n",
              "  'VS1_clarity': ('statistic: 0.0005793474230626483', 'p-value: 1.0'),\n",
              "  'SI1_clarity': ('statistic: 0.00347608453837589',\n",
              "   'p-value: 0.9999999912149959'),\n",
              "  'VS2_clarity': ('statistic: 0.0031979977753059385',\n",
              "   'p-value: 0.9999999997755085'),\n",
              "  'SI2_clarity': ('statistic: 0.006859473489061907',\n",
              "   'p-value: 0.9766087577995152'),\n",
              "  'VVS2_clarity': ('statistic: 0.0027576937337783214',\n",
              "   'p-value: 0.9999999999999408'),\n",
              "  'VVS1_clarity': ('statistic: 0.001506303299962819', 'p-value: 1.0'),\n",
              "  'IF_clarity': ('statistic: 0.0030357804968482727',\n",
              "   'p-value: 0.9999999999836834'),\n",
              "  'I1_clarity': ('statistic: 0.00041713014460509346', 'p-value: 1.0'),\n",
              "  'price': ('statistic: 0.009872080088987767', 'p-value: 0.7344133163252095')})"
            ]
          },
          "metadata": {},
          "execution_count": 158
        }
      ]
    },
    {
      "cell_type": "code",
      "source": [
        "def relu(z: np.ndarray):\n",
        "    return np.maximum(0, z)\n",
        "\n",
        "def sigmoid(z: np.ndarray):\n",
        "    return 1 / (1 + np.exp(-z))\n",
        "\n",
        "def tanh(z: np.ndarray | int | float):\n",
        "    res = ((np.exp(z) - np.exp(-z))/(np.exp(z) + np.exp(-z)))\n",
        "    assert np.abs(res - np.tanh(z)) <= 1e-5\n",
        "    return res\n",
        "\n",
        "def half_mse(yhat, y, W: list[np.ndarray], alpha):\n",
        "    y = y.reshape(-1, 1)\n",
        "    yhat = yhat.reshape(-1, 1)\n",
        "\n",
        "    loss = 0.5 * np.mean((y - yhat) ** 2)\n",
        "    reg = (alpha/2)\n",
        "    reg_param = 0\n",
        "    for w in W:\n",
        "        reg_param += (np.sum(w ** 2))\n",
        "    reg *= reg_param\n",
        "    return loss + reg\n",
        "\n",
        "def forward_prop(x, y, W: list[np.ndarray], b: list[np.ndarray], alpha, act_fn):\n",
        "    if len(W) != len(b):\n",
        "        print('unequal amount of weights and biases')\n",
        "        return None\n",
        "\n",
        "    if len(x.shape) == 1:\n",
        "        x = x.reshape(1, -1) # if theres 1 sample\n",
        "\n",
        "    x_col = x.T\n",
        "    # print(f'x col shape: {x_col.shape}')\n",
        "    # print(f'w[0] shape: {W[0].shape}')\n",
        "\n",
        "    z = {}\n",
        "    h = {}\n",
        "\n",
        "    z[0] = W[0] @ x_col + b[0][:, np.newaxis]\n",
        "    h[0] = act_fn(z[0])\n",
        "\n",
        "    for w in range(1, len(W)):\n",
        "        # print(f'Weight at index {w}: {W[w].shape}')\n",
        "        # print(f'activation at index {w-1}: {h[w-1].shape}')\n",
        "        # print(f'bias at index {w}: {b[w].shape}')\n",
        "\n",
        "        z[w] = W[w] @ h[w-1] + b[w][:, np.newaxis]\n",
        "\n",
        "        if w < len(W) - 1 or act_fn == sigmoid:\n",
        "            h[w] = act_fn(z[w])\n",
        "        else:\n",
        "            h[w] = z[w]\n",
        "\n",
        "    # for k, v in z.items():\n",
        "        # print(f'z layer {k}: {v.shape}')\n",
        "    # for k, v in h.items():\n",
        "        # print(f'h layer {k}: {v.shape}')\n",
        "\n",
        "    y_hat = h[len(W) - 1] if len(W) - 1 in h else z[len(W) - 1]\n",
        "    # print(f'y_hat shape: {y_hat.shape}')\n",
        "\n",
        "    if len(y.shape) == 1:\n",
        "        y = y.reshape(-1, 1)\n",
        "\n",
        "    loss = half_mse(y_hat, y, W, alpha)\n",
        "\n",
        "    return loss, z, h, x, y_hat\n",
        "\n",
        "def back_prop(X, y, W: list[np.ndarray], B: list[np.ndarray], alpha, act_fn):\n",
        "    if len(X.shape) == 1:\n",
        "        X = X.reshape(1, -1)\n",
        "    loss, z, h, x, yhat = forward_prop(X, y, W, B, alpha, act_fn)\n",
        "\n",
        "    if len(y.shape) == 1:\n",
        "        y = y.reshape(-1, 1)\n",
        "    dW = []\n",
        "    dB = []\n",
        "    n_layers = len(W)\n",
        "\n",
        "    delta = None\n",
        "    for i in range(n_layers - 1, -1, -1):\n",
        "\n",
        "        if i == n_layers - 1:\n",
        "            delta = -(y - yhat.T).T\n",
        "        else:\n",
        "            if act_fn == relu:\n",
        "                delta = (W[i+1].T @ delta) * (z[i] > 0)\n",
        "            elif act_fn == sigmoid:\n",
        "                delta = (W[i+1].T @ delta) * (h[i] * (1 - h[i]))\n",
        "            elif act_fn == tanh:\n",
        "                delta = (W[i+1].T @ delta) * (1 - h[i]**2)\n",
        "            else:\n",
        "                print('Unsupported activation function')\n",
        "                return None\n",
        "\n",
        "        if i > 0:\n",
        "            dW_i = delta @ h[i-1].T / X.shape[0]\n",
        "        else:\n",
        "            dW_i = delta @ X / X.shape[0]\n",
        "\n",
        "        dB_i = np.mean(delta, axis=1)\n",
        "\n",
        "        dW_i = dW_i + alpha * W[i]\n",
        "\n",
        "        dW.insert(0, dW_i)\n",
        "        dB.insert(0, dB_i)\n",
        "\n",
        "    return dW, dB, loss\n",
        "\n",
        "\n",
        "\n",
        "def train(x_train: np.ndarray, y_train: np.ndarray, x_val: np.ndarray, y_val: np.ndarray, W: list[np.ndarray], b: list[np.ndarray],\n",
        "          learning_rate=1e-3, batch_size=32, num_epochs=100, reg_param=1e-4, clip_val=1.0, act_fn=relu, tol: float = 0.01, min_iter = 10):\n",
        "    losses = []\n",
        "    val_losses = []\n",
        "    # print(f\"Number of weight matrices: {len(W)}\")\n",
        "\n",
        "    for epoch in tqdm(range(num_epochs)):\n",
        "        epoch_loss = 0\n",
        "        idx = np.random.permutation(x_train.shape[0])\n",
        "        x_train_shuffled, y_train_shuffled = x_train[idx], y_train[idx]\n",
        "\n",
        "        for i in range(0, x_train.shape[0], batch_size):\n",
        "            batch_x = x_train_shuffled[i:i+batch_size]\n",
        "            batch_y = y_train_shuffled[i:i+batch_size]\n",
        "\n",
        "            # print(f\"Batch x shape: {batch_x.shape}\")\n",
        "\n",
        "\n",
        "            dW, dB, loss = back_prop(batch_x, batch_y, W, b, reg_param, act_fn)\n",
        "\n",
        "            # print(f\"Number of dW matrices: {len(dW)}\")\n",
        "            # print(f\"Number of dB vectors: {len(dB)}\")\n",
        "\n",
        "            for j in range(len(W)):\n",
        "                W[j] -= learning_rate * np.clip(dW[j], -clip_val, clip_val)\n",
        "                b[j] -= learning_rate * np.clip(dB[j], -clip_val, clip_val)\n",
        "\n",
        "            epoch_loss += loss\n",
        "\n",
        "        avg_epoch_loss = epoch_loss / (x_train.shape[0] // batch_size + 1)\n",
        "        losses.append(avg_epoch_loss)\n",
        "\n",
        "\n",
        "\n",
        "        val_pred, _, _, _, _  = forward_prop(x_val, y_val, W, b, alpha = reg_param, act_fn = act_fn)\n",
        "        val_losses.append(val_pred)\n",
        "\n",
        "        n = len(y_val)\n",
        "\n",
        "        print(f\"\\nEpoch {epoch+1}, Train Loss: {avg_epoch_loss:.4f}\")\n",
        "\n",
        "\n",
        "\n",
        "        print(f'\\nhalf-mse performance on the validation data at Epoch {epoch + 1}: {val_losses[epoch]:.4f}')\n",
        "        if np.abs(val_losses[epoch] - val_losses [epoch - 1]) < tol and epoch > min_iter:\n",
        "          # print (f'{losses [epoch] - losses [epoch - 1]}')\n",
        "          print(f\"\\nEpoch {epoch+1}, Train Loss: {losses[epoch]:.4f}\")\n",
        "          print(f'Stopped early because validation mse at current epoch {val_losses[epoch]:.4f} and validation mse at previous epoch {val_losses[epoch-1]:.4f} are too similar')\n",
        "\n",
        "          aic_val = n * np.log(val_losses[epoch]) + 2 * n\n",
        "          bic_val = n * np.log(val_losses[epoch]) + n * np.log(n)\n",
        "          # print(f'Validation AIC at epoch{epoch + 1}:', aic_val)\n",
        "          # print(f'Validation BIC at epoch{epoch + 1}:', bic_val)\n",
        "          return losses, W, b\n",
        "\n",
        "    # print(f'Validation AIC at epoch {epoch + 1}:', aic_val)\n",
        "    # print(f'Validation BIC at epoch {epoch + 1}:', bic_val)\n",
        "\n",
        "    return losses, W, b\n",
        "\n",
        "\n",
        "\n",
        "\n",
        "\n",
        "\n",
        "\n"
      ],
      "metadata": {
        "id": "OkvkEkpMFTjb"
      },
      "execution_count": 4,
      "outputs": []
    },
    {
      "cell_type": "code",
      "source": [],
      "metadata": {
        "id": "jxrt78J5TGqO"
      },
      "execution_count": null,
      "outputs": []
    },
    {
      "cell_type": "markdown",
      "source": [
        "# visual of arch"
      ],
      "metadata": {
        "id": "QFoGrA3f3NFZ"
      }
    },
    {
      "cell_type": "code",
      "source": [
        "def create_computational_graph(W: list[np.ndarray], b: list[np.ndarray], act_fn) -> nx.DiGraph:\n",
        "    n_layers = len(W)\n",
        "    G = nx.DiGraph()\n",
        "    activation_name = act_fn.__name__\n",
        "\n",
        "    input_dim = W[0].shape[1]\n",
        "    output_dim = W[-1].shape[0]\n",
        "\n",
        "    G.add_node(\"X\", label=f\"Input\\n(dim={input_dim}, or n_features)\", pos=(0, 0), color=\"lightblue\", shape=\"box\")\n",
        "\n",
        "    layer_width = 5\n",
        "    node_height = 2\n",
        "\n",
        "\n",
        "    for i in range(n_layers):\n",
        "        w_y_pos = node_height * (i + 1)\n",
        "        b_y_pos = -node_height * (i + 1)\n",
        "\n",
        "        w_shape = W[i].shape\n",
        "        G.add_node(f\"W{i}\",\n",
        "                  label=f\"W[{i}]\\nShape: {w_shape}\\nNorm: {np.linalg.norm(W[i]):.4f}\",\n",
        "                  pos=(i * layer_width + 0.5, w_y_pos),\n",
        "                  color=\"orange\")\n",
        "\n",
        "        b_shape = b[i].shape\n",
        "        G.add_node(f\"b{i}\",\n",
        "                  label=f\"b[{i}]\\nShape: {b_shape}\\nNorm: {np.linalg.norm(b[i]):.4f}\",\n",
        "                  pos=(i * layer_width + 0.5, b_y_pos),\n",
        "                  color=\"lightgreen\")\n",
        "\n",
        "    for i in range(n_layers):\n",
        "        layer_x_pos = (i + 1) * layer_width\n",
        "\n",
        "        if i == 0:\n",
        "            z_label = f\"z[{i}] = W[{i}] @ X + b[{i}]\"\n",
        "            G.add_edge(\"X\", f\"z{i}\", color=\"black\")\n",
        "        else:\n",
        "            z_label = f\"z[{i}] = W[{i}] @ h[{i-1}] + b[{i}]\"\n",
        "            G.add_edge(f\"h{i-1}\", f\"z{i}\", color=\"black\")\n",
        "\n",
        "        G.add_node(f\"z{i}\", label=z_label, pos=(layer_x_pos, 0), color=\"lightcoral\")\n",
        "        G.add_edge(f\"W{i}\", f\"z{i}\", color=\"black\")\n",
        "        G.add_edge(f\"b{i}\", f\"z{i}\", color=\"black\")\n",
        "\n",
        "        if i < n_layers - 1 or act_fn == sigmoid:\n",
        "            h_label = f\"h[{i}] = {activation_name}(z[{i}])\"\n",
        "            h_y_pos = -1\n",
        "            G.add_node(f\"h{i}\", label=h_label, pos=(layer_x_pos, h_y_pos), color=\"yellow\")\n",
        "            G.add_edge(f\"z{i}\", f\"h{i}\", color=\"black\")\n",
        "\n",
        "    output_x = (n_layers + 1) * layer_width\n",
        "\n",
        "    G.add_node(\"output\",\n",
        "              label=f\"Output\\n(dim={output_dim})\",\n",
        "              pos=(output_x, 0),\n",
        "              color=\"lightblue\",\n",
        "              shape=\"box\")\n",
        "\n",
        "\n",
        "    ed = ([e for e in G.edges])\n",
        "    G.add_edge(ed[-1][1], 'output', color = 'black')\n",
        "\n",
        "    return G\n",
        "\n",
        "def visualize_network(W: list[np.ndarray], b: list[np.ndarray], act_fn,\n",
        "                      title: str = \"Neural Network Architecture\",\n",
        "                      filename: str = \"arch.png\"):\n",
        "    G = create_computational_graph(W, b, act_fn)\n",
        "    title += f' With {act_fn.__name__} Activation Function'\n",
        "\n",
        "\n",
        "    fig_width = 3 + len(W) * 3\n",
        "    fig_height = 8\n",
        "    plt.figure(figsize=(fig_width, fig_height))\n",
        "    pos = nx.get_node_attributes(G, 'pos')\n",
        "    node_colors = [G.nodes[n].get('color', 'lightgray') for n in G.nodes()]\n",
        "    nx.draw_networkx_nodes(G, pos, node_color=node_colors, node_size=2500, alpha=0.8)\n",
        "    nx.draw_networkx_edges(G, pos, width=1.5, alpha=0.7, arrows=True, arrowsize=15)\n",
        "    labels = nx.get_node_attributes(G, 'label')\n",
        "    nx.draw_networkx_labels(G, pos, labels=labels, font_size=9, font_weight='bold')\n",
        "\n",
        "    plt.title(title, fontsize=16)\n",
        "    plt.axis('off')\n",
        "    plt.tight_layout()\n",
        "    plt.savefig(filename, dpi=300, bbox_inches='tight')\n",
        "    plt.show()\n"
      ],
      "metadata": {
        "id": "JAu_0KPU3MIL"
      },
      "execution_count": 5,
      "outputs": []
    },
    {
      "cell_type": "code",
      "source": [
        "if __name__ == \"__main__\":\n",
        "    x_train, y_train, n_feats, _= feature_engineering('train')\n",
        "    x_val, y_val, _, _  =feature_engineering('val')\n",
        "\n",
        "    n_hidden = 64\n",
        "    n_out = 1\n",
        "\n",
        "    W1 = np.random.randn(n_hidden, n_feats) * 0.01\n",
        "    b1 = np.zeros(n_hidden)\n",
        "    W2 = np.random.randn(n_hidden, n_hidden) * 0.01\n",
        "    b2 = np.zeros(n_hidden)\n",
        "    W3 = np.random.randn(n_out, n_hidden) * 0.01\n",
        "    b3 = np.zeros(n_out)\n",
        "    losses, W, B = train(x_train, y_train, x_val, y_val, [W1, W2, W3], [b1, b2, b3])\n",
        "    print(f'final train loss: {losses[-1]:.4f}')\n"
      ],
      "metadata": {
        "colab": {
          "base_uri": "https://localhost:8080/"
        },
        "id": "zTWA0W1aSv5Q",
        "outputId": "48c796f1-650e-42a5-a2cd-23e09928a182"
      },
      "execution_count": null,
      "outputs": [
        {
          "output_type": "stream",
          "name": "stderr",
          "text": [
            "  1%|          | 1/100 [00:00<00:51,  1.93it/s]"
          ]
        },
        {
          "output_type": "stream",
          "name": "stdout",
          "text": [
            "\n",
            "Epoch 1, Train Loss: 0.5000\n",
            "\n",
            "half-mse performance on the validation data at Epoch 1: 0.5236\n"
          ]
        },
        {
          "output_type": "stream",
          "name": "stderr",
          "text": [
            "\r  2%|▏         | 2/100 [00:01<00:52,  1.86it/s]"
          ]
        },
        {
          "output_type": "stream",
          "name": "stdout",
          "text": [
            "\n",
            "Epoch 2, Train Loss: 0.4996\n",
            "\n",
            "half-mse performance on the validation data at Epoch 2: 0.5233\n"
          ]
        },
        {
          "output_type": "stream",
          "name": "stderr",
          "text": [
            "\r  3%|▎         | 3/100 [00:01<00:52,  1.83it/s]"
          ]
        },
        {
          "output_type": "stream",
          "name": "stdout",
          "text": [
            "\n",
            "Epoch 3, Train Loss: 0.4993\n",
            "\n",
            "half-mse performance on the validation data at Epoch 3: 0.5228\n"
          ]
        },
        {
          "output_type": "stream",
          "name": "stderr",
          "text": [
            "\r  4%|▍         | 4/100 [00:02<00:51,  1.85it/s]"
          ]
        },
        {
          "output_type": "stream",
          "name": "stdout",
          "text": [
            "\n",
            "Epoch 4, Train Loss: 0.4988\n",
            "\n",
            "half-mse performance on the validation data at Epoch 4: 0.5218\n"
          ]
        },
        {
          "output_type": "stream",
          "name": "stderr",
          "text": [
            "\r  5%|▌         | 5/100 [00:02<00:51,  1.84it/s]"
          ]
        },
        {
          "output_type": "stream",
          "name": "stdout",
          "text": [
            "\n",
            "Epoch 5, Train Loss: 0.4970\n",
            "\n",
            "half-mse performance on the validation data at Epoch 5: 0.5193\n"
          ]
        },
        {
          "output_type": "stream",
          "name": "stderr",
          "text": [
            "\r  6%|▌         | 6/100 [00:03<00:50,  1.85it/s]"
          ]
        },
        {
          "output_type": "stream",
          "name": "stdout",
          "text": [
            "\n",
            "Epoch 6, Train Loss: 0.4925\n",
            "\n",
            "half-mse performance on the validation data at Epoch 6: 0.5107\n"
          ]
        },
        {
          "output_type": "stream",
          "name": "stderr",
          "text": [
            "\r  7%|▋         | 7/100 [00:03<00:50,  1.83it/s]"
          ]
        },
        {
          "output_type": "stream",
          "name": "stdout",
          "text": [
            "\n",
            "Epoch 7, Train Loss: 0.4725\n",
            "\n",
            "half-mse performance on the validation data at Epoch 7: 0.4660\n"
          ]
        },
        {
          "output_type": "stream",
          "name": "stderr",
          "text": [
            "\r  8%|▊         | 8/100 [00:04<00:49,  1.84it/s]"
          ]
        },
        {
          "output_type": "stream",
          "name": "stdout",
          "text": [
            "\n",
            "Epoch 8, Train Loss: 0.3383\n",
            "\n",
            "half-mse performance on the validation data at Epoch 8: 0.1898\n"
          ]
        },
        {
          "output_type": "stream",
          "name": "stderr",
          "text": [
            "\r  9%|▉         | 9/100 [00:04<00:50,  1.82it/s]"
          ]
        },
        {
          "output_type": "stream",
          "name": "stdout",
          "text": [
            "\n",
            "Epoch 9, Train Loss: 0.1283\n",
            "\n",
            "half-mse performance on the validation data at Epoch 9: 0.1170\n"
          ]
        },
        {
          "output_type": "stream",
          "name": "stderr",
          "text": [
            "\r 10%|█         | 10/100 [00:05<00:58,  1.54it/s]"
          ]
        },
        {
          "output_type": "stream",
          "name": "stdout",
          "text": [
            "\n",
            "Epoch 10, Train Loss: 0.1075\n",
            "\n",
            "half-mse performance on the validation data at Epoch 10: 0.1358\n"
          ]
        },
        {
          "output_type": "stream",
          "name": "stderr",
          "text": [
            "\r 11%|█         | 11/100 [00:06<01:05,  1.37it/s]"
          ]
        },
        {
          "output_type": "stream",
          "name": "stdout",
          "text": [
            "\n",
            "Epoch 11, Train Loss: 0.1010\n",
            "\n",
            "half-mse performance on the validation data at Epoch 11: 0.1038\n"
          ]
        },
        {
          "output_type": "stream",
          "name": "stderr",
          "text": [
            "\r 11%|█         | 11/100 [00:07<01:01,  1.44it/s]"
          ]
        },
        {
          "output_type": "stream",
          "name": "stdout",
          "text": [
            "\n",
            "Epoch 12, Train Loss: 0.0993\n",
            "\n",
            "half-mse performance on the validation data at Epoch 12: 0.1078\n",
            "\n",
            "Epoch 12, Train Loss: 0.0993\n",
            "Stopped early because validation mse at current epoch 0.1078 and validation mse at previous epoch 0.1038 are too similar\n",
            "final train loss: 0.09925555220432014\n"
          ]
        },
        {
          "output_type": "stream",
          "name": "stderr",
          "text": [
            "\n"
          ]
        }
      ]
    },
    {
      "cell_type": "code",
      "source": [
        "# np.save('Weights.npy', W)\n",
        "# np.save('Biases.npy', B)\n",
        "for i in range(len(W)):\n",
        "  np.save(f'Weights_{i+1}.npy', W[i])\n",
        "for j in range(len(B)):\n",
        "  np.save(f'Biases_{j+1}.npy', B[j])"
      ],
      "metadata": {
        "id": "-t8uNymeEjxO"
      },
      "execution_count": null,
      "outputs": []
    },
    {
      "cell_type": "code",
      "source": [
        "visualize_network(W, B, relu)\n",
        "\n"
      ],
      "metadata": {
        "colab": {
          "base_uri": "https://localhost:8080/",
          "height": 594
        },
        "id": "4C-sHuVXxdbQ",
        "outputId": "a6ebf23c-5f1e-47a5-c52c-5f5779db82f1"
      },
      "execution_count": null,
      "outputs": [
        {
          "output_type": "display_data",
          "data": {
            "text/plain": [
              "<Figure size 1200x800 with 1 Axes>"
            ],
            "image/png": "[encoded data removed]"
          },
          "metadata": {}
        }
      ]
    },
    {
      "cell_type": "code",
      "source": [
        "!ls"
      ],
      "metadata": {
        "colab": {
          "base_uri": "https://localhost:8080/"
        },
        "id": "hn4kcljSQ9Ti",
        "outputId": "2821fbe9-145f-4b47-c07e-984332c69cb4"
      },
      "execution_count": null,
      "outputs": [
        {
          "output_type": "stream",
          "name": "stdout",
          "text": [
            "arch.png      diamonds_test.csv   state.npy\t Weights_3.npy\n",
            "Biases_1.npy  diamonds_train.csv  state.txt\t Weights.npy\n",
            "Biases_2.npy  diamonds_val.csv\t  Weights_1.npy\n",
            "Biases_3.npy  sample_data\t  Weights_2.npy\n"
          ]
        }
      ]
    },
    {
      "cell_type": "code",
      "source": [
        "!zip -r stuff.zip ."
      ],
      "metadata": {
        "colab": {
          "base_uri": "https://localhost:8080/"
        },
        "id": "lzN_zVKGRCPZ",
        "outputId": "197bfa2f-b60d-465c-cda5-5e4254c0d2df"
      },
      "execution_count": null,
      "outputs": [
        {
          "output_type": "stream",
          "name": "stdout",
          "text": [
            "  adding: .config/ (stored 0%)\n",
            "  adding: .config/active_config (stored 0%)\n",
            "  adding: .config/hidden_gcloud_config_universe_descriptor_data_cache_configs.db (deflated 97%)\n",
            "  adding: .config/config_sentinel (stored 0%)\n",
            "  adding: .config/.last_update_check.json (deflated 23%)\n",
            "  adding: .config/.last_opt_in_prompt.yaml (stored 0%)\n",
            "  adding: .config/logs/ (stored 0%)\n",
            "  adding: .config/logs/2025.04.22/ (stored 0%)\n",
            "  adding: .config/logs/2025.04.22/13.37.36.419838.log (deflated 57%)\n",
            "  adding: .config/logs/2025.04.22/13.37.37.101263.log (deflated 57%)\n",
            "  adding: .config/logs/2025.04.22/13.37.16.947737.log (deflated 58%)\n",
            "  adding: .config/logs/2025.04.22/13.36.56.098125.log (deflated 92%)\n",
            "  adding: .config/logs/2025.04.22/13.37.26.087114.log (deflated 86%)\n",
            "  adding: .config/logs/2025.04.22/13.37.27.297340.log (deflated 58%)\n",
            "  adding: .config/gce (stored 0%)\n",
            "  adding: .config/.last_survey_prompt.yaml (stored 0%)\n",
            "  adding: .config/default_configs.db (deflated 98%)\n",
            "  adding: .config/configurations/ (stored 0%)\n",
            "  adding: .config/configurations/config_default (deflated 15%)\n",
            "  adding: Weights_1.npy (deflated 5%)\n",
            "  adding: Weights.npy (stored 0%)\n",
            "  adding: Biases_1.npy (deflated 28%)\n",
            "  adding: state.txt (stored 0%)\n",
            "  adding: Weights_3.npy (deflated 5%)\n",
            "  adding: diamonds_train.csv (deflated 68%)\n",
            "  adding: state.npy (stored 0%)\n",
            "  adding: diamonds_val.csv (deflated 67%)\n",
            "  adding: Biases_3.npy (deflated 43%)\n",
            "  adding: Weights_2.npy (deflated 4%)\n",
            "  adding: Biases_2.npy (deflated 19%)\n",
            "  adding: arch.png (deflated 11%)\n",
            "  adding: diamonds_test.csv (deflated 67%)\n",
            "  adding: sample_data/ (stored 0%)\n",
            "  adding: sample_data/anscombe.json (deflated 83%)\n",
            "  adding: sample_data/README.md (deflated 39%)\n",
            "  adding: sample_data/california_housing_train.csv (deflated 79%)\n",
            "  adding: sample_data/mnist_train_small.csv (deflated 88%)\n",
            "  adding: sample_data/california_housing_test.csv (deflated 76%)\n",
            "  adding: sample_data/mnist_test.csv (deflated 88%)\n"
          ]
        }
      ]
    },
    {
      "cell_type": "markdown",
      "source": [
        "# TEST TO COME ..."
      ],
      "metadata": {
        "id": "a4tV1McMeKlA"
      }
    },
    {
      "cell_type": "code",
      "source": [
        "w1, w2, w3 = np.load('Weights_1.npy'), np.load('Weights_2.npy'), np.load('Weights_3.npy')\n",
        "b1, b2, b3 = np.load('Biases_1.npy'), np.load('Biases_2.npy'), np.load('Biases_3.npy')\n",
        "w = [w1, w2, w3]\n",
        "b = [b1, b2, b3]\n"
      ],
      "metadata": {
        "id": "SkIOPWFsDvA7"
      },
      "execution_count": 6,
      "outputs": []
    },
    {
      "cell_type": "code",
      "source": [
        "x_test, y_test, n_test, test_ks= feature_engineering('test')\n",
        "x_val, y_val, n_val, _ = feature_engineering('val')"
      ],
      "metadata": {
        "colab": {
          "base_uri": "https://localhost:8080/"
        },
        "id": "1JfjkF_c7Pg1",
        "outputId": "46ddedb0-09d0-4363-f981-dfdc027bf7e1"
      },
      "execution_count": 29,
      "outputs": [
        {
          "output_type": "stream",
          "name": "stdout",
          "text": [
            "p looks good\n",
            "p looks good\n"
          ]
        }
      ]
    },
    {
      "cell_type": "code",
      "source": [
        "test_ks"
      ],
      "metadata": {
        "colab": {
          "base_uri": "https://localhost:8080/"
        },
        "id": "CJdG-HYEAtvF",
        "outputId": "94eece3a-19ce-4e27-8e06-3d8c36429162"
      },
      "execution_count": 21,
      "outputs": [
        {
          "output_type": "execute_result",
          "data": {
            "text/plain": [
              "{'carat': ('statistic: 0.008991472005932533', 'p-value: 0.829539974359703'),\n",
              " 'depth': ('statistic: 0.009524471635150134', 'p-value: 0.773325354015395'),\n",
              " 'table': ('statistic: 0.0102196885428254', 'p-value: 0.6944264630158914'),\n",
              " 'x': ('statistic: 0.009709862810530212', 'p-value: 0.7527413041865041'),\n",
              " 'y': ('statistic: 0.010451427512050415', 'p-value: 0.667445358444184'),\n",
              " 'z': ('statistic: 0.0078791249536522', 'p-value: 0.9248314478543839'),\n",
              " 'F_color': ('statistic: 0.002479606970708259', 'p-value: 1.0'),\n",
              " 'H_color': ('statistic: 0.012676121616611025', 'p-value: 0.420688337048415'),\n",
              " 'G_color': ('statistic: 0.007786429365962189', 'p-value: 0.9310388699601333'),\n",
              " 'D_color': ('statistic: 0.010196514645902877', 'p-value: 0.697114381751474'),\n",
              " 'E_color': ('statistic: 0.0008110863922877742', 'p-value: 1.0'),\n",
              " 'I_color': ('statistic: 0.00451890989988879', 'p-value: 0.9999676268587002'),\n",
              " 'J_color': ('statistic: 0.0024564330737857354', 'p-value: 1.0'),\n",
              " 'Ideal_cut': ('statistic: 0.0056080830552465155',\n",
              "  'p-value: 0.9980167414313333'),\n",
              " 'Very Good_cut': ('statistic: 0.009176863181312611',\n",
              "  'p-value: 0.810569818141731'),\n",
              " 'Premium_cut': ('statistic: 0.007763255469039665',\n",
              "  'p-value: 0.9325443899230345'),\n",
              " 'Good_cut': ('statistic: 0.0018307378568780397', 'p-value: 1.0'),\n",
              " 'Fair_cut': ('statistic: 0.0023637374860956406', 'p-value: 1.0'),\n",
              " 'VS1_clarity': ('statistic: 0.003174823878383304',\n",
              "  'p-value: 0.999999999841804'),\n",
              " 'SI1_clarity': ('statistic: 0.0006952169076751558', 'p-value: 1.0'),\n",
              " 'VS2_clarity': ('statistic: 0.0031053021876158438',\n",
              "  'p-value: 0.9999999999472141'),\n",
              " 'SI2_clarity': ('statistic: 0.005376344086021501',\n",
              "  'p-value: 0.9989803182875563'),\n",
              " 'VVS2_clarity': ('statistic: 0.0055385613644790554',\n",
              "  'p-value: 0.9983607804637241'),\n",
              " 'VVS1_clarity': ('statistic: 0.007068038561364398',\n",
              "  'p-value: 0.9689417716157182'),\n",
              " 'IF_clarity': ('statistic: 0.00048665183537266454', 'p-value: 1.0'),\n",
              " 'I1_clarity': ('statistic: 0.0002317389692250149', 'p-value: 1.0'),\n",
              " 'price': ('statistic: 0.008736559139784952', 'p-value: 0.854394487751598')}"
            ]
          },
          "metadata": {},
          "execution_count": 21
        }
      ]
    },
    {
      "cell_type": "code",
      "source": [
        "val_pred, _, _, _, y_hat_val= forward_prop(x_val, y_val, w, b, 1e-4, relu)\n",
        "test_pred, _, _, _, y_hat_test= forward_prop(x_test, y_test, w, b, 1e-4, relu)\n",
        "print(f'Half-MSE performance on validation set:  {val_pred:.6f}')\n",
        "\n",
        "print(f'Half-MSE performance on test set:  {test_pred:.6f}')"
      ],
      "metadata": {
        "id": "8E1RGNrrRD7c",
        "colab": {
          "base_uri": "https://localhost:8080/"
        },
        "outputId": "a23b3e62-b5bc-4ee4-d51a-c031c5684223"
      },
      "execution_count": 42,
      "outputs": [
        {
          "output_type": "stream",
          "name": "stdout",
          "text": [
            "Half-MSE performance on validation set:  0.108339\n",
            "Half-MSE performance on test set:  0.107996\n"
          ]
        }
      ]
    },
    {
      "cell_type": "code",
      "source": [
        "from sklearn.metrics import r2_score\n",
        "y_hat_val.T.shape\n",
        "y_val.shape\n",
        "print(f'Validation R2: {r2_score(y_hat_val.T, y_val):.6f}')\n",
        "\n",
        "print(f'Testing R2: {r2_score(y_hat_test.T, y_test):6f}')"
      ],
      "metadata": {
        "colab": {
          "base_uri": "https://localhost:8080/"
        },
        "id": "tiEzuc-UM2ZB",
        "outputId": "e78e9596-f1a6-4c82-acdd-270ccdce1ce7"
      },
      "execution_count": 47,
      "outputs": [
        {
          "output_type": "stream",
          "name": "stdout",
          "text": [
            "Validation R2: 0.733817\n",
            "Testing R2: 0.730929\n"
          ]
        }
      ]
    },
    {
      "cell_type": "code",
      "source": [],
      "metadata": {
        "id": "iDTjy6irNNlK"
      },
      "execution_count": null,
      "outputs": []
    }
  ]
}